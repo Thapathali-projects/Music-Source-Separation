{
 "cells": [
  {
   "cell_type": "code",
   "execution_count": 1,
   "id": "19f0bdb6",
   "metadata": {},
   "outputs": [],
   "source": [
    "# importing packages\n",
    "import librosa\n",
    "import librosa.display\n",
    "import matplotlib.pyplot as plt\n",
    "import numpy as np\n",
    "import IPython.display as ipd\n",
    "from scipy.ndimage.filters import maximum_filter, minimum_filter, uniform_filter\n",
    "import math\n"
   ]
  },
  {
   "cell_type": "code",
   "execution_count": 2,
   "id": "8b7d9ad1",
   "metadata": {},
   "outputs": [],
   "source": [
    "# connecting files from folder\n",
    "signal_filename = \"mixture5.wav\"\n",
    "vocal_filename = \"vocals5.wav\""
   ]
  },
  {
   "cell_type": "code",
   "execution_count": 3,
   "id": "37525046",
   "metadata": {},
   "outputs": [],
   "source": [
    "# reading audio file\n",
    "original_signal, sr = librosa.load(signal_filename, sr=44100)\n",
    "original_vocal_signal, sr = librosa.load(vocal_filename, sr=44100)\n",
    "original_music_signal = original_signal - original_vocal_signal"
   ]
  },
  {
   "cell_type": "code",
   "execution_count": 4,
   "id": "08405c21",
   "metadata": {},
   "outputs": [],
   "source": [
    "def plot_waveform(x,sr,display_title):\n",
    "  plt.figure(figsize=(14, 5))\n",
    "  plt.title(display_title)\n",
    "  librosa.display.waveplot(x, sr=sr)\n",
    "    \n",
    "def convert_audio_to_spectogram(x,sr,display_title):\n",
    "  X = librosa.stft(x,win_length = 2048,hop_length = 512)\n",
    "  Xdb = librosa.amplitude_to_db(abs(X))\n",
    "  plt.figure(figsize=(14, 5))\n",
    "  plt.title(display_title)\n",
    "  librosa.display.specshow(Xdb, sr = sr, x_axis = 'time', y_axis = 'log')\n",
    "  plt.colorbar()    \n",
    "  return X\n",
    "\n",
    "def convert_spectrogram_2DFT(spectrogram,sr,display_title):\n",
    "  twoDFT_spectrogram = np.fft.fft2(abs(spectrogram))\n",
    "  plt.figure(figsize=(14, 5))\n",
    "  librosa.display.specshow(librosa.amplitude_to_db(abs(twoDFT_spectrogram)), sr=sr,x_axis='linear',y_axis='log')\n",
    "  plt.title(display_title)\n",
    "  plt.xlabel(\"Rate\")\n",
    "  plt.ylabel(\"scale\")\n",
    "  plt.colorbar()\n",
    "  return twoDFT_spectrogram"
   ]
  },
  {
   "cell_type": "code",
   "execution_count": 8,
   "id": "7a114452",
   "metadata": {},
   "outputs": [
    {
     "name": "stdout",
     "output_type": "stream",
     "text": [
      "(1025, 18897)\n"
     ]
    }
   ],
   "source": [
    "# convert_audio_to_spectogram_log\n",
    "original_signal_spectrogram = convert_audio_to_spectogram(original_signal,sr,display_title='Original Signal > Spectrogram')"
   ]
  },
  {
   "cell_type": "code",
   "execution_count": 10,
   "id": "29dbce18",
   "metadata": {},
   "outputs": [
    {
     "name": "stdout",
     "output_type": "stream",
     "text": [
      "(1025, 18897)\n"
     ]
    }
   ],
   "source": [
    "original_signal_spectrogram_2dFT = convert_spectrogram_2DFT(original_signal_spectrogram,sr,display_title='Original Signal > Spectrogram > 2dFT')"
   ]
  },
  {
   "cell_type": "code",
   "execution_count": 11,
   "id": "213c0f61",
   "metadata": {},
   "outputs": [],
   "source": [
    "   def filter_local_maxima(neighborhood_size, spectrogram_2dFT):\n",
    "        data = np.abs(spectrogram_2dFT)\n",
    "        threshold = np.std(data)\n",
    "\n",
    "        data_max = maximum_filter(data, neighborhood_size)\n",
    "        data_min = minimum_filter(data, neighborhood_size)\n",
    "        alpha_c = data_max - data_min\n",
    "        \n",
    "        M_bg = (data == data_max)\n",
    "        diff = (alpha_c > threshold)\n",
    "        M_bg[diff == 0] = 0\n",
    "        M_fg = 1 - M_bg\n",
    "        return M_bg, M_fg"
   ]
  },
  {
   "cell_type": "code",
   "execution_count": 12,
   "id": "668720a6",
   "metadata": {},
   "outputs": [],
   "source": [
    "M_bg, M_fg = filter_local_maxima((1,15),original_signal_spectrogram_2dFT)\n",
    "i2dFT_Bg = np.fft.ifft2(np.multiply(original_signal_spectrogram_2dFT,M_bg))\n",
    "i2dFT_Fg = np.fft.ifft2(np.multiply(original_signal_spectrogram_2dFT,M_fg))\n",
    "mask_Bg = np.abs(i2dFT_Bg) > np.abs(i2dFT_Fg)\n",
    "\n",
    "background_signal_spectrogram = np.abs(np.multiply(original_signal_spectrogram,mask_Bg))\n",
    "vocal_signal_spectrogram = np.abs(np.multiply(original_signal_spectrogram,1-mask_Bg))\n",
    "background_signal = librosa.core.istft(np.multiply(original_signal_spectrogram,mask_Bg))\n",
    "vocal_signal = librosa.core.istft(np.multiply(original_signal_spectrogram,1-mask_Bg))"
   ]
  },
  {
   "cell_type": "code",
   "execution_count": 13,
   "id": "70b875a0",
   "metadata": {},
   "outputs": [],
   "source": [
    "def signaltonoise(signal,noise):\n",
    "    signal_amplitude = np.sum(np.square(signal))\n",
    "    \n",
    "    noise_amplitude = np.sum(np.square(noise))\n",
    "    \n",
    "    SNR = 10*math.log10(signal_amplitude/noise_amplitude)\n",
    "    return SNR"
   ]
  },
  {
   "cell_type": "code",
   "execution_count": 14,
   "id": "e71c1445",
   "metadata": {},
   "outputs": [
    {
     "name": "stdout",
     "output_type": "stream",
     "text": [
      "9.635219443483184\n"
     ]
    }
   ],
   "source": [
    "music_signal_back = original_music_signal[:len(background_signal)]\n",
    "SNR_music = signaltonoise(music_signal_back,np.subtract(background_signal,music_signal_back))\n",
    "print(SNR_music)"
   ]
  },
  {
   "cell_type": "code",
   "execution_count": 15,
   "id": "4eb7ed45",
   "metadata": {},
   "outputs": [
    {
     "name": "stdout",
     "output_type": "stream",
     "text": [
      "1.3323208956435555\n"
     ]
    }
   ],
   "source": [
    "vocal_signal_back = original_vocal_signal[:len(vocal_signal)]\n",
    "SNR_vocal = signaltonoise(vocal_signal_back,np.subtract(vocal_signal,vocal_signal_back))\n",
    "print(SNR_vocal)"
   ]
  },
  {
   "cell_type": "code",
   "execution_count": 16,
   "id": "53c61808",
   "metadata": {},
   "outputs": [],
   "source": [
    "def cosine_similarity(x,y):\n",
    "    numerator = np.sum(np.multiply(x,y))\n",
    "    denominator = math.sqrt(np.sum(np.square(x))*np.sum(np.square(y)))\n",
    "    return numerator/denominator"
   ]
  },
  {
   "cell_type": "code",
   "execution_count": 18,
   "id": "bda59eeb",
   "metadata": {},
   "outputs": [
    {
     "name": "stdout",
     "output_type": "stream",
     "text": [
      "0.9440542560147327\n"
     ]
    }
   ],
   "source": [
    "similarity_music = cosine_similarity(background_signal,music_signal_back)\n",
    "print(similarity_music)"
   ]
  },
  {
   "cell_type": "code",
   "execution_count": 551,
   "id": "a998dfd2",
   "metadata": {},
   "outputs": [
    {
     "name": "stdout",
     "output_type": "stream",
     "text": [
      "0.6544116149782884\n"
     ]
    }
   ],
   "source": [
    "similarity_vocal = cosine_similarity(vocal_signal,vocal_signal_back)\n",
    "print(similarity_vocal)"
   ]
  }
 ],
 "metadata": {
  "kernelspec": {
   "display_name": "Python 3",
   "language": "python",
   "name": "python3"
  },
  "language_info": {
   "codemirror_mode": {
    "name": "ipython",
    "version": 3
   },
   "file_extension": ".py",
   "mimetype": "text/x-python",
   "name": "python",
   "nbconvert_exporter": "python",
   "pygments_lexer": "ipython3",
   "version": "3.8.7"
  }
 },
 "nbformat": 4,
 "nbformat_minor": 5
}
