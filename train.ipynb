{
 "cells": [
  {
   "cell_type": "code",
   "execution_count": 1,
   "metadata": {
    "id": "uMxWVxZS0BRB"
   },
   "outputs": [],
   "source": [
    "import tensorflow as tf\n",
    "from keras.models import load_model\n",
    "from keras import Input, Model\n",
    "from keras.layers import Conv2D, Conv1D, Dropout, BatchNormalization, LeakyReLU, ReLU, Conv1DTranspose, Conv2DTranspose, Activation, Concatenate, Multiply,UpSampling2D,MaxPooling2D,Flatten,Dense\n",
    "import numpy as np\n",
    "from keras import Input\n",
    "from tensorflow.keras.optimizers import Adam\n",
    "from sklearn.model_selection import train_test_split\n",
    "import os\n",
    "from keras.models import load_model\n",
    "import keras\n",
    "import librosa\n",
    "from librosa.util import find_files\n",
    "from librosa import load"
   ]
  },
  {
   "cell_type": "code",
   "execution_count": 2,
   "metadata": {},
   "outputs": [],
   "source": [
    "# !pip install -U segmentation-models\n",
    "\n",
    "# !pip install q tensorflow==2.1\n",
    "# !pip install q keras==2.4.3\n",
    "# !pip install tensorflow-estimator==2.1"
   ]
  },
  {
   "cell_type": "code",
   "execution_count": 3,
   "metadata": {
    "id": "urGlRo8c0Uof"
   },
   "outputs": [],
   "source": [
    "SR =  44100\n",
    "window_size = 1024\n",
    "hop_length = 690\n",
    "\n",
    "patch_size = 128\n",
    "\n",
    "## for training\n",
    "EPOCH = 1\n",
    "BATCH = 16\n",
    "SAMPLING_STRIDE = 10"
   ]
  },
  {
   "cell_type": "code",
   "execution_count": 4,
   "metadata": {
    "id": "RIN8Vckv0amd"
   },
   "outputs": [],
   "source": [
    "SPECTROGRAM_PATH = 'F:\\BEX IV I\\python\\DSD100\\save song\\save song 0'"
   ]
  },
  {
   "cell_type": "code",
   "execution_count": 6,
   "metadata": {
    "id": "Bddf6uN30tOh"
   },
   "outputs": [],
   "source": [
    "#load npz file to variable upto 4000 data due to lack of Memory\n",
    "def LoadSpectrogram(file_path):\n",
    "  file_folder = os.listdir(file_path)\n",
    "  length = len(file_folder)\n",
    "  x_list = []\n",
    "  y_list = []\n",
    "  x=0\n",
    "  for x in range(4000) :\n",
    "#     if(x<4000):\n",
    "#       continue\n",
    "    file = file_path +'\\\\'+ file_folder[x]\n",
    "    data = np.load(file)\n",
    "    x_list.append(data['mixture'])\n",
    "    y_list.append(data['vocal'])\n",
    "    data = []\n",
    "  return x_list, y_list"
   ]
  },
  {
   "cell_type": "code",
   "execution_count": null,
   "metadata": {
    "id": "gphDMNZF0veM"
   },
   "outputs": [],
   "source": [
    "X_list, Y_list = LoadSpectrogram(SPECTROGRAM_PATH)"
   ]
  },
  {
   "cell_type": "code",
   "execution_count": 9,
   "metadata": {
    "id": "2jg3o1Xq1My0"
   },
   "outputs": [],
   "source": [
    "def unet(inputs=Input((512, 128, 1))):\n",
    "  size = 5\n",
    "  #print(inputs.shape)\n",
    "  # print(\"1 conv\")\n",
    "  conv1 = Conv2D(16, size, strides=2, padding='same')(inputs)\n",
    "  # print(conv1.shape)\n",
    "  conv1 = BatchNormalization(axis=-1)(conv1)\n",
    "  # print(conv1.shape)\n",
    "  conv1 = Dropout(0.5)(conv1)\n",
    "  # print(conv1.shape)\n",
    "  # conv1 = LeakyReLU(alpha=0.2)(conv1)\n",
    "  conv1 = tf.keras.activations.relu(conv1,alpha = 0.2)\n",
    "  # print(conv1.shape)\n",
    "\n",
    "  # print(\"2 conv\")\n",
    "  conv2 = Conv2D(32, size, strides=2, padding='same')(conv1)\n",
    "  # print(conv2.shape)\n",
    "  conv2 = BatchNormalization(axis=-1)(conv2)\n",
    "  # print(conv2.shape)\n",
    "  conv2 = Dropout(0.5)(conv2)\n",
    "  # print(conv2.shape)\n",
    "  #conv2 = LeakyReLU(alpha=0.2)(conv2)\n",
    "  conv2 = tf.keras.activations.relu(conv2,alpha=0.2)\n",
    "  # print(conv2.shape)\n",
    "\n",
    "  # print(\"3 conv\")\n",
    "  conv3 = Conv2D(64, size, strides=2, padding='same')(conv2)\n",
    "  # print(conv3.shape)\n",
    "  conv3 = BatchNormalization(axis=-1)(conv3)\n",
    "  # print(conv3.shape)\n",
    "  conv3 = Dropout(0.5)(conv3)\n",
    "  # print(conv3.shape)\n",
    "  #conv3 = LeakyReLU(alpha=0.2)(conv3)\n",
    "  conv3 = tf.keras.activations.relu(conv3,alpha=0.2)\n",
    "  # print(conv3.shape)\n",
    "\n",
    "  # print(\"4 conv\")\n",
    "  conv4 = Conv2D(128, size, strides=2, padding='same')(conv3)\n",
    "  # print(conv4.shape)\n",
    "  conv4 = BatchNormalization(axis=-1)(conv4)\n",
    "  # print(conv4.shape)\n",
    "  #conv4 = LeakyReLU(alpha=0.2)(conv4)\n",
    "  conv4 = tf.keras.activations.relu(conv4,alpha=0.2)\n",
    "  # print(conv4.shape)\n",
    "\n",
    "  # print(\"5 conv\")\n",
    "  conv5 = Conv2D(256, size, strides=2, padding='same')(conv4)\n",
    "  # print(conv5.shape)\n",
    "  conv5 = BatchNormalization(axis=-1)(conv5)\n",
    "  # print(conv5.shape)\n",
    "  #conv5 = LeakyReLU(alpha=0.2)(conv5)\n",
    "  conv5 = tf.keras.activations.relu(conv5,alpha=0.2)\n",
    "  # print(conv5.shape)\n",
    "\n",
    "  # print(\"6 conv\")\n",
    "  conv6 = Conv2D(512, size, strides=2, padding='same')(conv5)\n",
    "  # print(conv6.shape)\n",
    "  conv6 = BatchNormalization(axis=-1)(conv6)\n",
    "  # print(conv6.shape)\n",
    "  # conv6 = LeakyReLU(alpha=0.2)(conv6)\n",
    "  conv6 = tf.keras.activations.relu(conv6,alpha=0.2)\n",
    "  # print(conv6.shape)\n",
    "\n",
    "  # print(\"7 deconv\")\n",
    "  deconv7 = Conv2DTranspose(256, size, strides=2, padding='same')(conv6)\n",
    "  # print(deconv7.shape)\n",
    "  deconv7 = BatchNormalization(axis=-1)(deconv7)\n",
    "  # print(deconv7.shape)\n",
    "  deconv7 = Dropout(0.5)(deconv7)\n",
    "  # print(deconv7.shape)\n",
    "  deconv7 = tf.keras.activations.relu(deconv7,alpha=0.2)\n",
    "  # print(deconv7.shape)\n",
    "\n",
    "  # print(\"8 deconv\")\n",
    "  deconv8 = Concatenate(axis=-1)([deconv7, conv5])\n",
    "  # print(deconv8.shape)\n",
    "  deconv8 = Conv2DTranspose(128, size, strides=2, padding='same')(deconv8)\n",
    "  # print(deconv8.shape)\n",
    "  deconv8 = BatchNormalization(axis=-1)(deconv8)\n",
    "  # print(deconv8.shape)\n",
    "  deconv8 = Dropout(0.5)(deconv8)\n",
    "  # print(deconv8.shape)\n",
    "  deconv8 = tf.keras.activations.relu(deconv8,alpha=0.2)\n",
    "  # print(deconv8.shape)\n",
    "\n",
    "  # print(\"9 deconv\")\n",
    "  deconv9 = Concatenate(axis=-1)([deconv8, conv4])\n",
    "  # print(deconv9.shape)\n",
    "  deconv9 = Conv2DTranspose(64, size, strides=2, padding='same')(deconv9)\n",
    "  # print(deconv9.shape)\n",
    "  deconv9 = BatchNormalization(axis=-1)(deconv9)\n",
    "  # print(deconv9.shape)\n",
    "  deconv9 = Dropout(0.5)(deconv9)\n",
    "  # print(deconv9.shape)\n",
    "  deconv9 = tf.keras.activations.relu(deconv9,alpha=0.2)\n",
    "  # print(deconv9.shape)\n",
    "\n",
    "  # print(\"10 deconv\")\n",
    "  deconv10 = Concatenate(axis=-1)([deconv9, conv3])\n",
    "  # print(deconv10.shape)\n",
    "  deconv10 = Conv2DTranspose(32, size, strides=2, padding='same')(deconv10)\n",
    "  # print(deconv10.shape)\n",
    "  deconv10 = BatchNormalization(axis=-1)(deconv10)\n",
    "  # print(deconv10.shape)\n",
    "  deconv10 = tf.keras.activations.relu(deconv10,alpha=0.2)\n",
    "  # print(deconv10.shape)\n",
    "\n",
    "  # print(\"11 deconv\")\n",
    "  deconv11 = Concatenate(axis=-1)([deconv10, conv2])\n",
    "  # print(deconv11.shape)\n",
    "  deconv11 = Conv2DTranspose(16, size, strides=2, padding='same')(deconv11)\n",
    "  # print(deconv11.shape)\n",
    "  deconv11 = BatchNormalization(axis=-1)(deconv11)\n",
    "  # print(deconv11.shape)\n",
    "  deconv11 = tf.keras.activations.relu(deconv11,alpha=0.2)\n",
    "  # print(deconv11.shape)\n",
    "\n",
    "  # print(\"12 deconv\")\n",
    "  deconv12 = Concatenate(axis=-1)([deconv11, conv1])\n",
    "  # print(deconv12.shape)\n",
    "  deconv12 = Conv2DTranspose(1, size, strides=2, padding='same')(deconv12)\n",
    "  # print(deconv12.shape)\n",
    "  deconv12 = BatchNormalization(axis=-1)(deconv12)\n",
    "  # print(deconv12.shape)\n",
    "  deconv12 = tf.keras.activations.sigmoid(deconv12)\n",
    "  # print(deconv12.shape)\n",
    "\n",
    "  output = Multiply()([deconv12, inputs])\n",
    "  # output = deconv12\n",
    "  # print(\"output\")\n",
    "  #print(output.shape)\n",
    "  return Model(inputs=inputs, outputs=output)\n",
    "\n",
    "\n",
    "if __name__ == '__main__':\n",
    "    inputs = Input((512, 128, 1))\n",
    "    model = unet(inputs)"
   ]
  },
  {
   "cell_type": "code",
   "execution_count": 10,
   "metadata": {
    "id": "9QOGllE-00gd"
   },
   "outputs": [],
   "source": [
    "#path of model to create if not find or load \n",
    "MODEL_PATH = \"F:\\BEX IV I\\python\\DSD100\\model\\vocal.h5\""
   ]
  },
  {
   "cell_type": "code",
   "execution_count": 11,
   "metadata": {
    "colab": {
     "base_uri": "https://localhost:8080/"
    },
    "id": "vnrzjfII1f-p",
    "outputId": "ebb8fc79-ca00-4bb4-f1e4-dae62dd72b3b"
   },
   "outputs": [
    {
     "name": "stdout",
     "output_type": "stream",
     "text": [
      "model created successfully\n"
     ]
    }
   ],
   "source": [
    "#load or create model file\n",
    "if os.path.isfile(MODEL_PATH) is True:\n",
    "    #load the model\n",
    "    model = load_model(MODEL_PATH)\n",
    "    print('model loaded successfully')  \n",
    "else:\n",
    "    model = unet()\n",
    "    model.compile(optimizer=Adam(1e-2), loss='mse', metrics=['accuracy'])\n",
    "    print('model created successfully')"
   ]
  },
  {
   "cell_type": "code",
   "execution_count": 1,
   "metadata": {
    "id": "oIwa4hdw1lcB"
   },
   "outputs": [],
   "source": [
    "#sampling data to size (512, 128,1) for input to model\n",
    "def sampling(X_mag,Y_mag) :\n",
    "    X_list = []\n",
    "    Y_list = []\n",
    "    for mix, target in zip(X_mag,Y_mag) :\n",
    "        starts = 0\n",
    "#         starts = np.random.randint(0, mix.shape[1] - patch_size, (mix.shape[1] - patch_size) // SAMPLING_STRIDE)\n",
    "#         for start in starts:\n",
    "        end = starts + patch_size\n",
    "        X_list.append(mix[1:, starts:end, np.newaxis])\n",
    "        Y_list.append(target[1:, starts:end, np.newaxis])\n",
    "    return np.asarray(X_list, dtype=np.float32), np.asarray(Y_list, dtype=np.float32)"
   ]
  },
  {
   "cell_type": "code",
   "execution_count": null,
   "metadata": {
    "colab": {
     "base_uri": "https://localhost:8080/"
    },
    "id": "fqTyL8NK1wvI",
    "outputId": "c7e5af9e-610b-4c8b-8990-60ce1f92c3b9"
   },
   "outputs": [],
   "source": [
    "X_list,Y_list = sampling(X_list,Y_list)"
   ]
  },
  {
   "cell_type": "code",
   "execution_count": null,
   "metadata": {
    "colab": {
     "base_uri": "https://localhost:8080/"
    },
    "id": "6UweP71Yifqd",
    "outputId": "b2ea197b-728e-4b98-bea7-bfdb5218b258",
    "scrolled": true
   },
   "outputs": [],
   "source": [
    "#fit model\n",
    "history = model.fit(X_list, Y_list, batch_size=BATCH, epochs=100, validation_split=0.3, shuffle=True, use_multiprocessing=True)#, steps_per_epoch=150)"
   ]
  },
  {
   "cell_type": "code",
   "execution_count": null,
   "metadata": {
    "colab": {
     "base_uri": "https://localhost:8080/"
    },
    "id": "B0RlESC5jE9Z",
    "outputId": "51eb2a79-0440-412f-a417-c59651ff2ff4"
   },
   "outputs": [
    {
     "name": "stdout",
     "output_type": "stream",
     "text": [
      "dict_keys(['loss', 'accuracy', 'val_loss', 'val_accuracy'])\n"
     ]
    }
   ],
   "source": [
    "# list all data in history\n",
    "print(history.history.keys())"
   ]
  },
  {
   "cell_type": "code",
   "execution_count": null,
   "metadata": {
    "colab": {
     "base_uri": "https://localhost:8080/",
     "height": 295
    },
    "id": "0xdwJ1PTjLYL",
    "outputId": "b937dc85-eb36-4a4f-d61a-81595dbb87c9"
   },
   "outputs": [
    {
     "data": {
      "image/png": "[encoded data removed]",
      "text/plain": [
       "<Figure size 432x288 with 1 Axes>"
      ]
     },
     "metadata": {
      "needs_background": "light"
     },
     "output_type": "display_data"
    }
   ],
   "source": [
    "# summarize history for loss\n",
    "plt.plot(history.history['loss'])\n",
    "plt.plot(history.history['val_loss'])\n",
    "plt.title('Model Loss')\n",
    "plt.ylabel('loss')\n",
    "plt.xlabel('epoch')\n",
    "plt.legend(['Train', 'Validation'], loc='upper right')#epoch = 10 ma low validation loss xa\n",
    "plt.show()"
   ]
  },
  {
   "cell_type": "code",
   "execution_count": null,
   "metadata": {
    "colab": {
     "base_uri": "https://localhost:8080/"
    },
    "id": "uEO7MQrklzur",
    "outputId": "065a89b6-7ce5-478e-c713-fc5a501f73d6"
   },
   "outputs": [],
   "source": [
    "#save model\n",
    "model.save(MODEL_PATH, overwrite=True)\n",
    "print('model saved successfully')"
   ]
  }
 ],
 "metadata": {
  "accelerator": "GPU",
  "colab": {
   "collapsed_sections": [],
   "name": "trainfinal.ipynb",
   "provenance": []
  },
  "kernelspec": {
   "display_name": "Python 3",
   "language": "python",
   "name": "python3"
  },
  "language_info": {
   "codemirror_mode": {
    "name": "ipython",
    "version": 3
   },
   "file_extension": ".py",
   "mimetype": "text/x-python",
   "name": "python",
   "nbconvert_exporter": "python",
   "pygments_lexer": "ipython3",
   "version": "3.8.7"
  }
 },
 "nbformat": 4,
 "nbformat_minor": 1
}
