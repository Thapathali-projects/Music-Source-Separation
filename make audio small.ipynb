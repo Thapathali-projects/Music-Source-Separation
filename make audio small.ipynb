{
 "cells": [
  {
   "cell_type": "code",
   "execution_count": 1,
   "id": "6d10d217",
   "metadata": {},
   "outputs": [],
   "source": [
    "import numpy as np\n",
    "import matplotlib.pyplot as plt\n",
    "import pandas as pd\n",
    "import librosa\n",
    "import librosa.display\n",
    "import os\n",
    "import IPython.display as ipd\n",
    "import soundfile as sf"
   ]
  },
  {
   "cell_type": "code",
   "execution_count": 31,
   "id": "0e80a188",
   "metadata": {},
   "outputs": [
    {
     "name": "stdout",
     "output_type": "stream",
     "text": [
      "['002 - ANiMAL - Rockshow', '005 - Angela Thomas Wade - Milk Cow Blues', '030 - Patrick Talbot - A Reason To Leave', '051 - AM Contra - Heart Peripheral', '056 - Arise - Run Run Run', '068 - Giselle - Moss', '069 - Hollow Ground - Left Blind']\n",
      "['107-109', 'bass.wav', 'drums.wav', 'mixture.wav', 'other.wav', 'vocals.wav']\n",
      "F:\\BEX IV I\\python\\DSD100\\song sample\\068 - Giselle - Moss\\107-109\n",
      "F:\\BEX IV I\\python\\DSD100\\song sample\\068 - Giselle - Moss\\mixture.wav\n",
      "F:\\BEX IV I\\python\\DSD100\\song sample\\068 - Giselle - Moss\\drums.wav\n",
      "F:\\BEX IV I\\python\\DSD100\\song sample\\068 - Giselle - Moss\\vocals.wav\n",
      "F:\\BEX IV I\\python\\DSD100\\song sample\\068 - Giselle - Moss\\bass.wav\n"
     ]
    }
   ],
   "source": [
    "path = r'F:\\BEX IV I\\python\\DSD100\\song sample'\n",
    "folder = os.listdir(path)\n",
    "x=5\n",
    "print(folder)\n",
    "song_path = path+'\\\\'+folder[x] \n",
    "song_folder = os.listdir(song_path)\n",
    "print(song_folder)\n",
    "save_folder_path = song_path+'\\\\'+song_folder[0]\n",
    "print(save_folder_path)\n",
    "\n",
    "input_bass_path = song_path+'\\\\'+song_folder[1]\n",
    "input_vocal_path = song_path+'\\\\'+song_folder[5]\n",
    "input_drum_path = song_path+'\\\\'+song_folder[2]\n",
    "input_mixture_path = song_path+'\\\\'+song_folder[3]\n",
    "\n",
    "#make 2 sec audio file of dataset test\n",
    "time = 108.0\n",
    "bass,sr =librosa.load(input_bass_path,sr=44100,offset=time, duration=2)\n",
    "drum,sr =librosa.load(input_drum_path,sr=44100,offset=time, duration=2)\n",
    "mixture,sr =librosa.load(input_mixture_path,sr=44100,offset=time, duration=2)\n",
    "vocal,sr =librosa.load(input_vocal_path,sr=44100,offset=time, duration=2)\n",
    "instrumental = mixture - vocal\n"
   ]
  },
  {
   "cell_type": "code",
   "execution_count": 32,
   "id": "5cc79cbd",
   "metadata": {},
   "outputs": [],
   "source": [
    "sf.write(save_folder_path+'\\\\bass.wav', bass , 44100)\n",
    "sf.write(save_folder_path+'\\\\vocal.wav', vocal , 44100)\n",
    "sf.write(save_folder_path+'\\\\mixture.wav', mixture , 44100)\n",
    "sf.write(save_folder_path+'\\\\drum.wav', drum , 44100)\n",
    "sf.write(save_folder_path+'\\\\instrumental.wav', instrumental , 44100)"
   ]
  },
  {
   "cell_type": "code",
   "execution_count": 3,
   "id": "15e6cf90",
   "metadata": {},
   "outputs": [
    {
     "name": "stdout",
     "output_type": "stream",
     "text": [
      "10497966\n",
      "882000\n",
      "11\n"
     ]
    }
   ],
   "source": [
    "bass_song_path = input_bass_path + '\\\\'+bass_song[0]\n",
    "drum_song_path = input_drum_path + '\\\\'+drum_song[0]\n",
    "other_song_path = input_other_path + '\\\\'+other_song[0]\n",
    "vocal_song_path = input_vocal_path + '\\\\'+vocal_song[0]\n",
    "\n",
    "y, sr = librosa.load(bass_song_path,sr=44100)\n",
    "\n",
    "y1, sr =librosa.load(bass_song_path,sr=44100,offset=0.0, duration=20)\n",
    "\n"
   ]
  },
  {
   "cell_type": "code",
   "execution_count": null,
   "id": "36d2f5bb",
   "metadata": {},
   "outputs": [],
   "source": [
    "#convert whole audio file of dataset test to 2 sec and store in some location\n",
    "x=0\n",
    "for x in range(100):\n",
    "    print(\"\")\n",
    "    print(\"song no: \",x)\n",
    "    bass_song_path = input_bass_path + '\\\\'+bass_song[x]\n",
    "    drum_song_path = input_drum_path + '\\\\'+drum_song[x]\n",
    "    other_song_path = input_other_path + '\\\\'+other_song[x]\n",
    "    vocal_song_path = input_vocal_path + '\\\\'+vocal_song[x]\n",
    "    i=0\n",
    "#     for i in range(1):\n",
    "    vocal, sr =librosa.load(vocal_song_path,sr=44100,offset=50.0, duration=30)\n",
    "    drum, sr =librosa.load(drum_song_path,sr=44100,offset=50.0, duration=30)\n",
    "    bass, sr =librosa.load(bass_song_path,sr=44100,offset=50.0, duration=30)\n",
    "    other, sr =librosa.load(other_song_path,sr=44100,offset=50.0, duration=30)\n",
    "    \n",
    "    sf.write(output_vocal_path+'\\\\'+vocal_song[x], vocal , 44100)\n",
    "    sf.write(output_drum_path+'\\\\'+drum_song[x], drum , 44100)\n",
    "    sf.write(output_bass_path+'\\\\'+bass_song[x], bass , 44100)\n",
    "    sf.write(output_other_path+'\\\\'+other_song[x], other , 44100)"
   ]
  }
 ],
 "metadata": {
  "kernelspec": {
   "display_name": "Python 3",
   "language": "python",
   "name": "python3"
  },
  "language_info": {
   "codemirror_mode": {
    "name": "ipython",
    "version": 3
   },
   "file_extension": ".py",
   "mimetype": "text/x-python",
   "name": "python",
   "nbconvert_exporter": "python",
   "pygments_lexer": "ipython3",
   "version": "3.8.7"
  }
 },
 "nbformat": 4,
 "nbformat_minor": 5
}
